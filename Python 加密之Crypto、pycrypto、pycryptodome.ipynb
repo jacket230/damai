{
 "cells": [
  {
   "cell_type": "markdown",
   "metadata": {},
   "source": [
    "## Python 加密之Crypto、pycrypto、pycryptodome\n",
    "\n",
    "参考：<br>\n",
    "[最全加密算法之对称加密和非对称加密](https://blog.csdn.net/shenggaofei/article/details/52333687)<br>\n",
    "[对称加密与非对称加密，以及RSA的原理](https://blog.csdn.net/u014079662/article/details/61169607)<br>\n",
    "[对称加密算法DES、3DES和AES](https://blog.csdn.net/u013126379/article/details/51881856)<br>\n",
    "[AES加密算法的详细介绍与实现](https://blog.csdn.net/qq_28205153/article/details/55798628)<br>\n",
    "[CryptoJS中AES256(CBC)加密算法简单使用](https://blog.csdn.net/z834410038/article/details/70231668?locationNum=1&fps=1)<br>\n",
    "[Python 实现AES加密解密](https://blog.csdn.net/s740556472/article/details/79026128)<br>\n",
    "[Python 中加密解密详解](http://www.php.cn/python-tutorials-377249.html)<br>\n",
    "[JS加密](https://www.jianshu.com/p/a5cde675bb3c)<br>\n",
    "[加密的js](https://www.jianshu.com/p/ebedd19fa915)<br>\n",
    "[python实现AES加密与解密](https://www.jb51.net/article/158655.htm)<br>\n",
    "[pycrytodome官方文档](http://pycryptodome.readthedocs.io/en/latest/src/introduction.html)<br>\n",
    "[pycrytodome使用](https://www.cjavapy.com/article/243/)<br>\n",
    "### 1、安装：\n",
    "　　pycrypto，pycrytodome和crypto是一个东西，crypto在python上面的名字是pycrypto，它是一个第三方库，但是已经停止更新三年了，所以不建议安装这个库。windows下python3.6安装也不会成功！<br>\n",
    "　　这个时候pycryptodome就来了，它是pycrypto的延伸版本，用法和pycrypto 是一模一样的。<br>\n",
    "　　PyCryptodome是PyCrypto的一个分支。它为PyCrypto的最后一个正式版本（2.6.1）带来了以下增强功能：<br>\n",
    ">　　经过身份验证的加密模式（GCM，CCM，EAX，SIV，OCB）<br>\n",
    "　　通过AES-NI在英特尔平台上加速AES<br>\n",
    "　　对PyPy的一流支持<br>\n",
    "　　椭圆曲线加密（仅限NIST P-256，P-384和P-521曲线）<br>\n",
    "　　更好，更紧凑的API（密码的nonce和iv属性，随机nonce和IV的自动生成，简化的CTR密码模式等）<br>\n",
    "　　SHA-3（包括SHAKE XOF），截断的SHA-512和BLAKE2哈希算法<br>\n",
    "　　Salsa20和ChaCha20流密码<br>\n",
    "　　Poly1305 MAC<br>\n",
    "　　ChaCha20-Poly1305经过验证的密码<br>\n",
    "　　scrypt和HKDF<br>\n",
    "　　确定性（EC）DSA<br>\n",
    "　　受密码保护的PKCS＃8密钥容器<br>\n",
    "　　沙米尔的秘密分享计划<br>\n",
    "　　随机数直接来自OS（而不是来自用户空间中的CSPRNG）<br>\n",
    "　　简化安装过程，包括更好地支持Windows<br>\n",
    "　　更清洁的RSA和DSA密钥生成（主要基于FIPS 186-4）<br>\n",
    "　　主要清理和简化代码库<br>\n",
    "  \n",
    "　　PyCryptodome不是像OpenSSL这样的独立C库的包装器。在最大程度上，算法是用纯Python实现的。只有对性能至关重要的部分（例如分组密码）才能实现为C扩展。<br>\n",
    "直接安装：<br>\n",
    ">pip install pycryptodome\n",
    "\n",
    "但是，在使用的时候导包是有问题的，这个时候只要修改一个文件夹的名称就可以完美解决这个问题:\\Python\\Python36\\Lib\\site-packages;找到这个路径，下面有一个文件夹叫做crypto,将c改成C，对就是改成大写就ok了！<br>\n",
    "### 2、使用：\n"
   ]
  }
 ],
 "metadata": {
  "kernelspec": {
   "display_name": "Python 3",
   "language": "python",
   "name": "python3"
  },
  "language_info": {
   "codemirror_mode": {
    "name": "ipython",
    "version": 3
   },
   "file_extension": ".py",
   "mimetype": "text/x-python",
   "name": "python",
   "nbconvert_exporter": "python",
   "pygments_lexer": "ipython3",
   "version": "3.9.7"
  }
 },
 "nbformat": 4,
 "nbformat_minor": 2
}
