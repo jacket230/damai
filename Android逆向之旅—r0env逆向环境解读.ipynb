{
 "cells": [
  {
   "cell_type": "markdown",
   "id": "b1d06a6c",
   "metadata": {},
   "source": [
    "# r0env逆向环境解读\n",
    "[r0env：打造年轻人的第一套安卓逆向环境！之完整使用手册](https://www.bilibili.com/video/av715724984/)   \n",
    "[r0env：打造年轻人的第一套安卓逆向环境！](https://mp.weixin.qq.com/s/gBdcaAx8EInRXPUGeJ5ljQ)   \n",
    "[安卓逆向_1 --- 逆向环境配置、APK 文件结构、APK 打包流程](https://blog.csdn.net/lyshark_lyshark/article/details/125848493)   \n",
    "[]()   \n",
    "[]()   \n",
    "[]()   \n",
    "[]()   \n",
    "[]()   "
   ]
  }
 ],
 "metadata": {
  "kernelspec": {
   "display_name": "Python 3 (ipykernel)",
   "language": "python",
   "name": "python3"
  },
  "language_info": {
   "codemirror_mode": {
    "name": "ipython",
    "version": 3
   },
   "file_extension": ".py",
   "mimetype": "text/x-python",
   "name": "python",
   "nbconvert_exporter": "python",
   "pygments_lexer": "ipython3",
   "version": "3.9.7"
  }
 },
 "nbformat": 4,
 "nbformat_minor": 5
}
