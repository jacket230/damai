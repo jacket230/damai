{
 "cells": [
  {
   "cell_type": "markdown",
   "metadata": {},
   "source": [
    "# Js反爬技术与处理手段汇总\n",
    "　　参考：[反爬之禁止F12和无限Debugger](https://www.cnblogs.com/Eliphaz/p/14689180.html)<br>\n",
    "　　　　　[爬虫检测技术之指纹识别、canvas指纹](https://www.cnblogs.com/Eliphaz/p/14609961.html)<br>\n",
    "　　　　　[反爬虫之防盗链](https://www.cnblogs.com/Eliphaz/p/14689176.html)<br>\n",
    "　　　　　[蜜罐之url动手脚](https://www.cnblogs.com/Eliphaz/p/14705475.html)<br>\n",
    "　　　　　[]()<br>\n",
    "　　　　　[]()<br>\n",
    "　　　　　[]()<br>\n",
    " \n",
    "### 1、F12无限Debugger反爬\n",
    "　　技术使用平台：<br>\n",
    "1、https://www.aqistudy.cn/<br>\n",
    "2、https://www.lagou.com/<br>\n",
    "　　反爬手段：<br>\n",
    "1、递归调用一个封装了 debugger 语句的方法；<br>\n",
    "　　反反爬处理：<br>\n",
    "1、点击右键，选择添加条件断点（Add conditional breakpoint ...）,输入 false 运行，既可以顺利调试。<br>\n",
    "2、js替换，使用fiddler的 AutoResponder 选项，添加打码替换规则，修改替换掉使用反爬的文件（注释掉无限debugger的部分语句或修改触发条件），继续调试。<br>\n",
    "### 2、反爬虫之防盗链\n",
    "　　防盗链（起始url溯源）：发起请求URL的上一个URL是否符合要求（跟Referer相关）。<br>\n",
    "　　反扒手段：<br>\n",
    "1、检查请求的header投是否使用合法的Referer（既：请求来源是否合法）。<br>\n",
    "　　反反爬处理：<br>\n",
    "1、抓取请求的header头携带上合法的Referer。<br>\n",
    "\n",
    "### 3、系统指纹\n",
    "\n",
    "### 4、canvas 指纹\n",
    "\n",
    "### 5、蜜罐机制反爬\n",
    "\n",
    "\n"
   ]
  }
 ],
 "metadata": {
  "kernelspec": {
   "display_name": "Python 3",
   "language": "python",
   "name": "python3"
  },
  "language_info": {
   "codemirror_mode": {
    "name": "ipython",
    "version": 3
   },
   "file_extension": ".py",
   "mimetype": "text/x-python",
   "name": "python",
   "nbconvert_exporter": "python",
   "pygments_lexer": "ipython3",
   "version": "3.7.4"
  }
 },
 "nbformat": 4,
 "nbformat_minor": 4
}
